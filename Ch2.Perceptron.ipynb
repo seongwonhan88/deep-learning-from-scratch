{
 "cells": [
  {
   "cell_type": "markdown",
   "metadata": {},
   "source": [
    "# chapter 2: Perceptron"
   ]
  },
  {
   "cell_type": "markdown",
   "metadata": {},
   "source": [
    "## What is Perceptron?\n",
    "\n",
    "- 1957년에 Frank Rosenblatt이 고안한 알고리즘\n",
    "- 신경망(딥러닝)의 기원이 되는 알고리즘이 Perceptron임 \n",
    "\n",
    "### Perceptron\n",
    "- 다수의 `신호`를 `입력`으로 받아 하나의 `신호`를 출력 \n",
    "- 신호: 흐름을 만들어 정보를 앞으로 전달 > `흐른다/안흐른다(1 or 0)`"
   ]
  },
  {
   "cell_type": "markdown",
   "metadata": {},
   "source": [
    "~~~\n",
    "(x1)--w1\n",
    "        \\__(y)  \n",
    "        /\n",
    "(x2)--w2\n",
    "~~~\n",
    "x : 입력신호 \n",
    "w : 가중치\n",
    "y : 출력신호\n",
    "뉴런/노드: (' ')\n",
    "임계값: 뉴런에서 보내온 신호의 총합이 정해진 `한계` -> 임계값을 넘어야 1이 출력(흐른다)\n",
    "\n",
    "- Perceptron은 복수의 입력 신호가 각각에 고유한 가중치를 부여. 가중치는 각 신호가 결과에 주는 영향력을 조절하는 요소로 작용\n",
    "- **가중치가 클 수록 해당 신호가 그만큼 더 중요함**\n"
   ]
  },
  {
   "cell_type": "markdown",
   "metadata": {},
   "source": [
    "### AND GATE\n",
    "- 입력이 둘이고 출력은 하나\n",
    "- 두 입력이 모두 1일때만 1을 출력, 그 외에는 0을 출력\n"
   ]
  },
  {
   "cell_type": "markdown",
   "metadata": {},
   "source": [
    "\n",
    "|x1|x2|y|\n",
    "|:--|:--|:--|\n",
    "|0|0|0|\n",
    "|1|0|0|\n",
    "|0|1|0|\n",
    "|1|1|1|\n"
   ]
  },
  {
   "cell_type": "code",
   "execution_count": null,
   "metadata": {},
   "outputs": [],
   "source": []
  }
 ],
 "metadata": {
  "kernelspec": {
   "display_name": "Python 3",
   "language": "python",
   "name": "python3"
  },
  "language_info": {
   "codemirror_mode": {
    "name": "ipython",
    "version": 3
   },
   "file_extension": ".py",
   "mimetype": "text/x-python",
   "name": "python",
   "nbconvert_exporter": "python",
   "pygments_lexer": "ipython3",
   "version": "3.6.6"
  }
 },
 "nbformat": 4,
 "nbformat_minor": 2
}
